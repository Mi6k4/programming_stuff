{
 "cells": [
  {
   "cell_type": "code",
   "execution_count": 7,
   "id": "e93ca0b3",
   "metadata": {},
   "outputs": [],
   "source": [
    "import sys"
   ]
  },
  {
   "cell_type": "code",
   "execution_count": 9,
   "id": "fa891178",
   "metadata": {},
   "outputs": [
    {
     "name": "stdout",
     "output_type": "stream",
     "text": [
      "C:\\Users\\mpkhi\\.conda\\envs\\my_env\\python.exe\n"
     ]
    }
   ],
   "source": [
    "print(sys.executable)"
   ]
  },
  {
   "cell_type": "code",
   "execution_count": 10,
   "id": "d6bb44fb",
   "metadata": {},
   "outputs": [
    {
     "data": {
      "text/plain": [
       "['C:\\\\Users\\\\mpkhi\\\\Desktop\\\\code\\\\coding_stuff\\\\python\\\\test',\n",
       " 'C:\\\\Users\\\\mpkhi\\\\.conda\\\\envs\\\\my_env\\\\python310.zip',\n",
       " 'C:\\\\Users\\\\mpkhi\\\\.conda\\\\envs\\\\my_env\\\\DLLs',\n",
       " 'C:\\\\Users\\\\mpkhi\\\\.conda\\\\envs\\\\my_env\\\\lib',\n",
       " 'C:\\\\Users\\\\mpkhi\\\\.conda\\\\envs\\\\my_env',\n",
       " '',\n",
       " 'C:\\\\Users\\\\mpkhi\\\\.conda\\\\envs\\\\my_env\\\\lib\\\\site-packages',\n",
       " 'C:\\\\Users\\\\mpkhi\\\\.conda\\\\envs\\\\my_env\\\\lib\\\\site-packages\\\\win32',\n",
       " 'C:\\\\Users\\\\mpkhi\\\\.conda\\\\envs\\\\my_env\\\\lib\\\\site-packages\\\\win32\\\\lib',\n",
       " 'C:\\\\Users\\\\mpkhi\\\\.conda\\\\envs\\\\my_env\\\\lib\\\\site-packages\\\\Pythonwin']"
      ]
     },
     "execution_count": 10,
     "metadata": {},
     "output_type": "execute_result"
    }
   ],
   "source": [
    "sys.path"
   ]
  }
 ],
 "metadata": {
  "kernelspec": {
   "display_name": "my_env",
   "language": "python",
   "name": "my_env"
  },
  "language_info": {
   "codemirror_mode": {
    "name": "ipython",
    "version": 3
   },
   "file_extension": ".py",
   "mimetype": "text/x-python",
   "name": "python",
   "nbconvert_exporter": "python",
   "pygments_lexer": "ipython3",
   "version": "3.10.9"
  }
 },
 "nbformat": 4,
 "nbformat_minor": 5
}
